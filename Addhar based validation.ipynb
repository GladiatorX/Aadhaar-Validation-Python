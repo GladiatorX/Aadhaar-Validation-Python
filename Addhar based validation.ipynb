{
 "cells": [
  {
   "cell_type": "markdown",
   "metadata": {},
   "source": [
    "# To Check if entered adhar number is valid  based on verhoeff based allgo\n"
   ]
  },
  {
   "cell_type": "code",
   "execution_count": 1,
   "metadata": {},
   "outputs": [],
   "source": [
    "verhoeff_table_d = (\n",
    "    (0,1,2,3,4,5,6,7,8,9),\n",
    "    (1,2,3,4,0,6,7,8,9,5),\n",
    "    (2,3,4,0,1,7,8,9,5,6),\n",
    "    (3,4,0,1,2,8,9,5,6,7),\n",
    "    (4,0,1,2,3,9,5,6,7,8),\n",
    "    (5,9,8,7,6,0,4,3,2,1),\n",
    "    (6,5,9,8,7,1,0,4,3,2),\n",
    "    (7,6,5,9,8,2,1,0,4,3),\n",
    "    (8,7,6,5,9,3,2,1,0,4),\n",
    "    (9,8,7,6,5,4,3,2,1,0))\n",
    "verhoeff_table_p = (\n",
    "    (0,1,2,3,4,5,6,7,8,9),\n",
    "    (1,5,7,6,2,8,3,0,9,4),\n",
    "    (5,8,0,3,7,9,6,1,4,2),\n",
    "    (8,9,1,6,0,4,3,5,2,7),\n",
    "    (9,4,5,3,1,2,6,8,7,0),\n",
    "    (4,2,8,6,5,7,3,9,0,1),\n",
    "    (2,7,9,3,8,0,6,4,1,5),\n",
    "    (7,0,4,6,9,1,3,2,5,8))\n",
    "verhoeff_table_inv = (0,4,3,2,1,5,6,7,8,9)\n",
    "\n",
    "def calcsum(number):\n",
    "    \"\"\"For a given number returns a Verhoeff checksum digit\"\"\"\n",
    "    c = 0\n",
    "    for i, item in enumerate(reversed(str(number))):\n",
    "        c = verhoeff_table_d[c][verhoeff_table_p[(i+1)%8][int(item)]]\n",
    "    return verhoeff_table_inv[c]\n",
    "\n",
    "def checksum(number):\n",
    "    \"\"\"For a given number generates a Verhoeff digit and\n",
    "    returns number + digit\"\"\"\n",
    "    c = 0\n",
    "    for i, item in enumerate(reversed(str(number))):\n",
    "        c = verhoeff_table_d[c][verhoeff_table_p[i % 8][int(item)]]\n",
    "    return c\n",
    "\n",
    "def generateVerhoeff(number):\n",
    "    \"\"\"For a given number returns number + Verhoeff checksum digit\"\"\"\n",
    "    return \"%s%s\" % (number, calcsum(number))\n",
    "\n",
    "def validateVerhoeff(number):\n",
    "    \"\"\"Validate Verhoeff checksummed number (checksum is last digit)\"\"\"\n",
    "    return checksum(number) == 0"
   ]
  },
  {
   "cell_type": "code",
   "execution_count": 45,
   "metadata": {},
   "outputs": [],
   "source": [
    "import re\n",
    "\n",
    "#123456789019\n",
    "aadharNumber = 237372798130 # strictly allw number & len should be 12\n",
    "\n",
    "def validateAadharNumber(aadharNumber):\n",
    "    if( (len(str(aadharNumber)) == 12) & (type(aadharNumber) == int) ):\n",
    "        isValidAadhar = validateVerhoeff(aadharNumber)\n",
    "        return isValidAadhar\n",
    "    else:\n",
    "        return \":(\""
   ]
  },
  {
   "cell_type": "code",
   "execution_count": 46,
   "metadata": {},
   "outputs": [
    {
     "data": {
      "text/plain": [
       "True"
      ]
     },
     "execution_count": 46,
     "metadata": {},
     "output_type": "execute_result"
    }
   ],
   "source": [
    "validateAadharNumber(338922670XXX) # Add valid adhar no to check"
   ]
  },
  {
   "cell_type": "code",
   "execution_count": 4,
   "metadata": {},
   "outputs": [],
   "source": [
    "assert calcsum('75872') == 2\n",
    "assert checksum('758722') == 0\n",
    "assert calcsum('12345') == 1\n",
    "assert checksum('123451') == 0\n",
    "assert calcsum('142857') == 0\n",
    "assert checksum('1428570') == 0\n",
    "assert calcsum('123456789012') == 0\n",
    "assert checksum('1234567890120') == 0\n",
    "assert calcsum('8473643095483728456789') == 2\n",
    "assert checksum('84736430954837284567892') == 0\n",
    "assert generateVerhoeff('12345') == '123451'\n",
    "assert validateVerhoeff('123451') == True\n",
    "assert validateVerhoeff('122451') == False\n",
    "assert validateVerhoeff('128451') == False"
   ]
  },
  {
   "cell_type": "markdown",
   "metadata": {},
   "source": [
    "Adhar based signup\n",
    "https://stackoverflow.com/questions/42364133/check-authenticity-of-user-using-aadhar-card-number\n",
    " want to check aadhar card number entered by the user belongs to that particular user by sending an OTP to the user on his registered mobile number with that aadhar card.??\n",
    "Its also told be to be an AUA but the financial requirement (turnover of the company) for it is too high.\n"
   ]
  },
  {
   "cell_type": "code",
   "execution_count": 33,
   "metadata": {},
   "outputs": [
    {
     "ename": "AssertionError",
     "evalue": "",
     "output_type": "error",
     "traceback": [
      "\u001b[1;31m---------------------------------------------------------------------------\u001b[0m",
      "\u001b[1;31mAssertionError\u001b[0m                            Traceback (most recent call last)",
      "\u001b[1;32m<ipython-input-33-a2c20829adf0>\u001b[0m in \u001b[0;36m<module>\u001b[1;34m\u001b[0m\n\u001b[1;32m----> 1\u001b[1;33m \u001b[1;32massert\u001b[0m \u001b[0mtype\u001b[0m\u001b[1;33m(\u001b[0m\u001b[0mnum\u001b[0m\u001b[1;33m)\u001b[0m \u001b[1;33m==\u001b[0m \u001b[0mstr\u001b[0m\u001b[1;33m\u001b[0m\u001b[1;33m\u001b[0m\u001b[0m\n\u001b[0m",
      "\u001b[1;31mAssertionError\u001b[0m: "
     ]
    }
   ],
   "source": [
    "assert "
   ]
  },
  {
   "cell_type": "code",
   "execution_count": null,
   "metadata": {},
   "outputs": [],
   "source": []
  }
 ],
 "metadata": {
  "kernelspec": {
   "display_name": "Python 3",
   "language": "python",
   "name": "python3"
  },
  "language_info": {
   "codemirror_mode": {
    "name": "ipython",
    "version": 3
   },
   "file_extension": ".py",
   "mimetype": "text/x-python",
   "name": "python",
   "nbconvert_exporter": "python",
   "pygments_lexer": "ipython3",
   "version": "3.6.8"
  }
 },
 "nbformat": 4,
 "nbformat_minor": 2
}
